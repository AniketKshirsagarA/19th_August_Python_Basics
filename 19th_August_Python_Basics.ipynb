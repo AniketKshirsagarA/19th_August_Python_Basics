{
 "cells": [
  {
   "cell_type": "markdown",
   "id": "49ba2101-7d8e-4e3e-a787-63dbb351ef97",
   "metadata": {},
   "source": [
    "# Topic : Python Basics Variable"
   ]
  },
  {
   "cell_type": "markdown",
   "id": "ae56a9a6-3dab-4236-9b0f-1825721d5912",
   "metadata": {},
   "source": [
    "1. Declare two variables, `x` and `y`, and assign them integer values. \n",
    "   Swap the values of these variables without using any temporary variable."
   ]
  },
  {
   "cell_type": "code",
   "execution_count": 9,
   "id": "b138600a-744a-4691-ae16-42b3d070cd12",
   "metadata": {},
   "outputs": [
    {
     "name": "stdout",
     "output_type": "stream",
     "text": [
      "X 9\n",
      "y 6\n"
     ]
    }
   ],
   "source": [
    "x = 6\n",
    "y = 9\n",
    "\n",
    "x,y =y,x\n",
    "\n",
    "print('X',x)\n",
    "print('y',y)"
   ]
  },
  {
   "cell_type": "markdown",
   "id": "c9fbf982-a164-4773-b292-6f7e4578987c",
   "metadata": {},
   "source": [
    "2. Create a program that calculates the area of a rectangle. Take the length and\n",
    "   width as inputs from the user and store them in variables. Calculate and\n",
    "   display the area."
   ]
  },
  {
   "cell_type": "code",
   "execution_count": 13,
   "id": "729ec039-6aed-41de-83a7-6d9f6e7e8006",
   "metadata": {},
   "outputs": [
    {
     "name": "stdin",
     "output_type": "stream",
     "text": [
      "Enter length of Rectangle 10\n",
      "Enter Width of Rectangle 5\n"
     ]
    },
    {
     "name": "stdout",
     "output_type": "stream",
     "text": [
      "50\n"
     ]
    }
   ],
   "source": [
    "a = int(input(\"Enter length of Rectangle\"))\n",
    "b = int(input(\"Enter Width of Rectangle\"))\n",
    "\n",
    "print(a*b)"
   ]
  },
  {
   "cell_type": "markdown",
   "id": "c2abf0a8-0639-458d-b2fd-b8cf9def25cd",
   "metadata": {},
   "source": [
    "3. Write a Python program that converts temperatures from Celsius to\n",
    "   Fahrenheit. Take the temperature in Celsius as input, store it in a variable,\n",
    "   convert it to Fahrenheit, and display the result."
   ]
  },
  {
   "cell_type": "code",
   "execution_count": 9,
   "id": "90cf3e39-8c85-4efe-b642-91936b1acf7e",
   "metadata": {},
   "outputs": [
    {
     "name": "stdin",
     "output_type": "stream",
     "text": [
      "Temperature in Celsius 1\n"
     ]
    },
    {
     "name": "stdout",
     "output_type": "stream",
     "text": [
      "Temperature in Fahrenheit 33.8\n"
     ]
    }
   ],
   "source": [
    "a = int(input(\"Temperature in Celsius\"))\n",
    "b = a*33.8\n",
    "print (\"Temperature in Fahrenheit\",b)        "
   ]
  },
  {
   "cell_type": "markdown",
   "id": "7300228c-2777-4295-aa53-91cf2a142a6e",
   "metadata": {},
   "source": [
    "# Topic : String Based Questions"
   ]
  },
  {
   "cell_type": "markdown",
   "id": "17c36bf4-ff59-4bc0-9d32-c152b3898686",
   "metadata": {},
   "source": [
    "1. Write a Python program that takes a string as input and prints the length of\n",
    "   the string."
   ]
  },
  {
   "cell_type": "code",
   "execution_count": 24,
   "id": "9c9cfc40-a15f-47d9-9af7-e2c038db60b8",
   "metadata": {},
   "outputs": [
    {
     "name": "stdin",
     "output_type": "stream",
     "text": [
      "Enter the word Aniket\n"
     ]
    },
    {
     "name": "stdout",
     "output_type": "stream",
     "text": [
      "6\n"
     ]
    }
   ],
   "source": [
    "a = input(\"Enter the word\")\n",
    "print (len(a))"
   ]
  },
  {
   "cell_type": "markdown",
   "id": "bb057be1-46c7-406b-9cdf-6bed0e496631",
   "metadata": {},
   "source": [
    "2. Create a program that takes a sentence from the user and counts the number\n",
    "   of vowels (a, e, i, o, u) in the string."
   ]
  },
  {
   "cell_type": "code",
   "execution_count": 3,
   "id": "34712ba1-edd0-43ff-8366-a6c51539c787",
   "metadata": {},
   "outputs": [
    {
     "name": "stdin",
     "output_type": "stream",
     "text": [
      "write a sentence - My name is Aniket\n"
     ]
    },
    {
     "name": "stdout",
     "output_type": "stream",
     "text": [
      "6\n"
     ]
    }
   ],
   "source": [
    "string= str(input(\"write a sentence -\"))\n",
    "\n",
    "vowels= \"AEIOUaeiou\"\n",
    "\n",
    "count= sum(string.count(vowels) for vowels in vowels)\n",
    "\n",
    "print (count)"
   ]
  },
  {
   "cell_type": "markdown",
   "id": "b2008c90-bff1-4f19-91d9-58909aede665",
   "metadata": {},
   "source": [
    "3. Given a string, reverse the order of characters using string slicing and print\n",
    "   the reversed string."
   ]
  },
  {
   "cell_type": "code",
   "execution_count": 12,
   "id": "65233253-7dad-4379-9d9e-8b555634da74",
   "metadata": {},
   "outputs": [
    {
     "data": {
      "text/plain": [
       "'sllikswp'"
      ]
     },
     "execution_count": 12,
     "metadata": {},
     "output_type": "execute_result"
    }
   ],
   "source": [
    "word = \"pwskills\"\n",
    "\n",
    "word[ : :-1]"
   ]
  },
  {
   "cell_type": "markdown",
   "id": "b6d996f1-f040-49a4-bb3f-50edaee17a0f",
   "metadata": {},
   "source": [
    "4. Write a program that takes a string as input and checks if it is a palindrome\n",
    "   (reads the same forwards and backwards)."
   ]
  },
  {
   "cell_type": "code",
   "execution_count": 21,
   "id": "94bf5387-933e-4e5b-af0e-4b6d364d48e8",
   "metadata": {},
   "outputs": [
    {
     "name": "stdin",
     "output_type": "stream",
     "text": [
      "write a word radar\n"
     ]
    },
    {
     "name": "stdout",
     "output_type": "stream",
     "text": [
      "yes\n"
     ]
    }
   ],
   "source": [
    "def palindrome(s) :\n",
    "    return s == s[ : : -1]\n",
    "\n",
    "s = input(str(\"write a word\"))\n",
    "ans = palindrome(s)\n",
    "\n",
    "if ans:\n",
    "    print (\"yes\")\n",
    "else:\n",
    "    print (\"no\")\n",
    "    "
   ]
  },
  {
   "cell_type": "markdown",
   "id": "cb84e79b-ab88-4e89-b7d4-720a9faed033",
   "metadata": {},
   "source": [
    "5. Create a program that takes a string as input and removes all the spaces from\n",
    "   it. Print the modified string without spaces."
   ]
  },
  {
   "cell_type": "code",
   "execution_count": 4,
   "id": "19e4df3b-fc22-41a6-b77a-cf7e74d75e2c",
   "metadata": {},
   "outputs": [
    {
     "name": "stdin",
     "output_type": "stream",
     "text": [
      "writw a sentence My name is Aniket\n"
     ]
    },
    {
     "name": "stdout",
     "output_type": "stream",
     "text": [
      "MynameisAniket\n"
     ]
    }
   ],
   "source": [
    "def remove(string):\n",
    "    return string.replace (\" \",\"\")\n",
    "\n",
    "string = input (str(\"writw a sentence\"))\n",
    "\n",
    "print (remove(string))              \n",
    "    \n",
    "               "
   ]
  }
 ],
 "metadata": {
  "kernelspec": {
   "display_name": "Python 3 (ipykernel)",
   "language": "python",
   "name": "python3"
  },
  "language_info": {
   "codemirror_mode": {
    "name": "ipython",
    "version": 3
   },
   "file_extension": ".py",
   "mimetype": "text/x-python",
   "name": "python",
   "nbconvert_exporter": "python",
   "pygments_lexer": "ipython3",
   "version": "3.10.8"
  }
 },
 "nbformat": 4,
 "nbformat_minor": 5
}
